{
 "cells": [
  {
   "cell_type": "code",
   "execution_count": 43,
   "id": "fc24cb46",
   "metadata": {},
   "outputs": [],
   "source": [
    "import numpy as np\n",
    "import pandas as pd\n",
    "import matplotlib .pyplot as plt\n",
    "%matplotlib inline \n",
    "from sklearn.preprocessing import LabelEncoder\n",
    "from sklearn .model_selection import train_test_split\n",
    "from sklearn.preprocessing import StandardScaler\n",
    "from sklearn.linear_model import LinearRegression\n",
    "from sklearn.ensemble import RandomForestRegressor\n",
    "from sklearn.ensemble import GradientBoostingRegressor\n",
    "from sklearn.metrics import r2_score,mean_squared_error\n",
    "import pickle\n",
    "import seaborn as sns\n",
    "from scipy import stats\n",
    "plt.style.use('fivethirtyeight')\n",
    "import warnings\n",
    "warnings.filterwarnings('ignore')"
   ]
  },
  {
   "cell_type": "code",
   "execution_count": 44,
   "id": "bcd56edd",
   "metadata": {},
   "outputs": [
    {
     "data": {
      "text/html": [
       "<div>\n",
       "<style scoped>\n",
       "    .dataframe tbody tr th:only-of-type {\n",
       "        vertical-align: middle;\n",
       "    }\n",
       "\n",
       "    .dataframe tbody tr th {\n",
       "        vertical-align: top;\n",
       "    }\n",
       "\n",
       "    .dataframe thead th {\n",
       "        text-align: right;\n",
       "    }\n",
       "</style>\n",
       "<table border=\"1\" class=\"dataframe\">\n",
       "  <thead>\n",
       "    <tr style=\"text-align: right;\">\n",
       "      <th></th>\n",
       "      <th>city</th>\n",
       "      <th>monthly_rant</th>\n",
       "      <th>BHKS</th>\n",
       "      <th>Baths</th>\n",
       "      <th>sqft_per_inch</th>\n",
       "      <th>build_up_area</th>\n",
       "      <th>Type_of_property</th>\n",
       "      <th>location_of_the_property</th>\n",
       "      <th>deposit</th>\n",
       "    </tr>\n",
       "  </thead>\n",
       "  <tbody>\n",
       "    <tr>\n",
       "      <th>0</th>\n",
       "      <td>mumbai</td>\n",
       "      <td>17500.0</td>\n",
       "      <td>1.0</td>\n",
       "      <td>2 Baths</td>\n",
       "      <td>470</td>\n",
       "      <td>Carpet Area</td>\n",
       "      <td>Residential</td>\n",
       "      <td>Kolshet Road</td>\n",
       "      <td>75000.0</td>\n",
       "    </tr>\n",
       "    <tr>\n",
       "      <th>1</th>\n",
       "      <td>mumbai</td>\n",
       "      <td>75000.0</td>\n",
       "      <td>3.0</td>\n",
       "      <td>3 Baths</td>\n",
       "      <td>1800</td>\n",
       "      <td>Super built-up Area</td>\n",
       "      <td>Residential</td>\n",
       "      <td>Sector 21 Nerul</td>\n",
       "      <td>400000.0</td>\n",
       "    </tr>\n",
       "    <tr>\n",
       "      <th>2</th>\n",
       "      <td>mumbai</td>\n",
       "      <td>60000.0</td>\n",
       "      <td>2.0</td>\n",
       "      <td>2 Baths</td>\n",
       "      <td>950</td>\n",
       "      <td>Super built-up Area</td>\n",
       "      <td>Residential</td>\n",
       "      <td>Wadala</td>\n",
       "      <td>200000.0</td>\n",
       "    </tr>\n",
       "    <tr>\n",
       "      <th>3</th>\n",
       "      <td>mumbai</td>\n",
       "      <td>52000.0</td>\n",
       "      <td>3.0</td>\n",
       "      <td>3 Baths</td>\n",
       "      <td>1300</td>\n",
       "      <td>Carpet Area</td>\n",
       "      <td>Residential</td>\n",
       "      <td>Hiranandani Estate</td>\n",
       "      <td>300000.0</td>\n",
       "    </tr>\n",
       "    <tr>\n",
       "      <th>4</th>\n",
       "      <td>mumbai</td>\n",
       "      <td>30000.0</td>\n",
       "      <td>1.0</td>\n",
       "      <td>1 Bath</td>\n",
       "      <td>550</td>\n",
       "      <td>Built-up Area</td>\n",
       "      <td>Residential</td>\n",
       "      <td>Kanjurmarg (East)</td>\n",
       "      <td>150000.0</td>\n",
       "    </tr>\n",
       "  </tbody>\n",
       "</table>\n",
       "</div>"
      ],
      "text/plain": [
       "     city  monthly_rant  BHKS    Baths  sqft_per_inch        build_up_area  \\\n",
       "0  mumbai       17500.0   1.0  2 Baths            470          Carpet Area   \n",
       "1  mumbai       75000.0   3.0  3 Baths           1800  Super built-up Area   \n",
       "2  mumbai       60000.0   2.0  2 Baths            950  Super built-up Area   \n",
       "3  mumbai       52000.0   3.0  3 Baths           1300          Carpet Area   \n",
       "4  mumbai       30000.0   1.0   1 Bath            550        Built-up Area   \n",
       "\n",
       "  Type_of_property location_of_the_property   deposit  \n",
       "0      Residential             Kolshet Road   75000.0  \n",
       "1      Residential          Sector 21 Nerul  400000.0  \n",
       "2      Residential                   Wadala  200000.0  \n",
       "3      Residential       Hiranandani Estate  300000.0  \n",
       "4      Residential        Kanjurmarg (East)  150000.0  "
      ]
     },
     "execution_count": 44,
     "metadata": {},
     "output_type": "execute_result"
    }
   ],
   "source": [
    "df = pd.read_csv('99acres_data.csv')\n",
    "df.head()"
   ]
  },
  {
   "cell_type": "code",
   "execution_count": 45,
   "id": "2680d6e0",
   "metadata": {},
   "outputs": [
    {
     "name": "stdout",
     "output_type": "stream",
     "text": [
      "Numbers of Area Type :\n",
      "\n",
      "Super built-up Area    69918\n",
      "Carpet Area            36847\n",
      "Built-up Area          29104\n",
      "Plot Area              10659\n",
      "Name: build_up_area, dtype: int64\n"
     ]
    },
    {
     "data": {
      "text/plain": [
       "<AxesSubplot:xlabel='build_up_area', ylabel='count'>"
      ]
     },
     "execution_count": 45,
     "metadata": {},
     "output_type": "execute_result"
    },
    {
     "data": {
      "image/png": "[encoded data removed]",
      "text/plain": [
       "<Figure size 576x288 with 1 Axes>"
      ]
     },
     "metadata": {},
     "output_type": "display_data"
    }
   ],
   "source": [
    "print(\"Numbers of Area Type :\")\n",
    "print()\n",
    "print(df['build_up_area'].value_counts())\n",
    "sns.set(rc = {'figure.figsize':(8,4)})\n",
    "sns.countplot(x='build_up_area', data=df, palette = 'Set2')"
   ]
  },
  {
   "cell_type": "code",
   "execution_count": 46,
   "id": "50c77425",
   "metadata": {},
   "outputs": [
    {
     "data": {
      "text/plain": [
       "<AxesSubplot:>"
      ]
     },
     "execution_count": 46,
     "metadata": {},
     "output_type": "execute_result"
    },
    {
     "data": {
      "image/png": "[encoded data removed]",
      "text/plain": [
       "<Figure size 576x288 with 2 Axes>"
      ]
     },
     "metadata": {},
     "output_type": "display_data"
    }
   ],
   "source": [
    "sns.heatmap(df.corr(),annot=True)"
   ]
  },
  {
   "cell_type": "code",
   "execution_count": 47,
   "id": "03b4a2e7",
   "metadata": {},
   "outputs": [
    {
     "data": {
      "text/html": [
       "<div>\n",
       "<style scoped>\n",
       "    .dataframe tbody tr th:only-of-type {\n",
       "        vertical-align: middle;\n",
       "    }\n",
       "\n",
       "    .dataframe tbody tr th {\n",
       "        vertical-align: top;\n",
       "    }\n",
       "\n",
       "    .dataframe thead th {\n",
       "        text-align: right;\n",
       "    }\n",
       "</style>\n",
       "<table border=\"1\" class=\"dataframe\">\n",
       "  <thead>\n",
       "    <tr style=\"text-align: right;\">\n",
       "      <th></th>\n",
       "      <th>city</th>\n",
       "      <th>monthly_rant</th>\n",
       "      <th>BHKS</th>\n",
       "      <th>Baths</th>\n",
       "      <th>sqft_per_inch</th>\n",
       "      <th>build_up_area</th>\n",
       "      <th>Type_of_property</th>\n",
       "      <th>location_of_the_property</th>\n",
       "      <th>deposit</th>\n",
       "    </tr>\n",
       "  </thead>\n",
       "  <tbody>\n",
       "    <tr>\n",
       "      <th>count</th>\n",
       "      <td>146528</td>\n",
       "      <td>1.465280e+05</td>\n",
       "      <td>146528.000000</td>\n",
       "      <td>146528</td>\n",
       "      <td>1.465280e+05</td>\n",
       "      <td>146528</td>\n",
       "      <td>146528</td>\n",
       "      <td>146528</td>\n",
       "      <td>1.465280e+05</td>\n",
       "    </tr>\n",
       "    <tr>\n",
       "      <th>unique</th>\n",
       "      <td>8</td>\n",
       "      <td>NaN</td>\n",
       "      <td>NaN</td>\n",
       "      <td>41</td>\n",
       "      <td>NaN</td>\n",
       "      <td>4</td>\n",
       "      <td>7</td>\n",
       "      <td>12555</td>\n",
       "      <td>NaN</td>\n",
       "    </tr>\n",
       "    <tr>\n",
       "      <th>top</th>\n",
       "      <td>ncr</td>\n",
       "      <td>NaN</td>\n",
       "      <td>NaN</td>\n",
       "      <td>2 Baths</td>\n",
       "      <td>NaN</td>\n",
       "      <td>Super built-up Area</td>\n",
       "      <td>Residential</td>\n",
       "      <td>Goregaon (East)</td>\n",
       "      <td>NaN</td>\n",
       "    </tr>\n",
       "    <tr>\n",
       "      <th>freq</th>\n",
       "      <td>42016</td>\n",
       "      <td>NaN</td>\n",
       "      <td>NaN</td>\n",
       "      <td>68767</td>\n",
       "      <td>NaN</td>\n",
       "      <td>69918</td>\n",
       "      <td>102024</td>\n",
       "      <td>807</td>\n",
       "      <td>NaN</td>\n",
       "    </tr>\n",
       "    <tr>\n",
       "      <th>mean</th>\n",
       "      <td>NaN</td>\n",
       "      <td>3.414242e+04</td>\n",
       "      <td>2.159703</td>\n",
       "      <td>NaN</td>\n",
       "      <td>2.463806e+03</td>\n",
       "      <td>NaN</td>\n",
       "      <td>NaN</td>\n",
       "      <td>NaN</td>\n",
       "      <td>1.203667e+05</td>\n",
       "    </tr>\n",
       "    <tr>\n",
       "      <th>std</th>\n",
       "      <td>NaN</td>\n",
       "      <td>8.428243e+04</td>\n",
       "      <td>1.107673</td>\n",
       "      <td>NaN</td>\n",
       "      <td>1.816119e+05</td>\n",
       "      <td>NaN</td>\n",
       "      <td>NaN</td>\n",
       "      <td>NaN</td>\n",
       "      <td>2.937736e+05</td>\n",
       "    </tr>\n",
       "    <tr>\n",
       "      <th>min</th>\n",
       "      <td>NaN</td>\n",
       "      <td>5.000000e+02</td>\n",
       "      <td>1.000000</td>\n",
       "      <td>NaN</td>\n",
       "      <td>1.000000e+00</td>\n",
       "      <td>NaN</td>\n",
       "      <td>NaN</td>\n",
       "      <td>NaN</td>\n",
       "      <td>0.000000e+00</td>\n",
       "    </tr>\n",
       "    <tr>\n",
       "      <th>25%</th>\n",
       "      <td>NaN</td>\n",
       "      <td>1.300000e+04</td>\n",
       "      <td>1.000000</td>\n",
       "      <td>NaN</td>\n",
       "      <td>6.800000e+02</td>\n",
       "      <td>NaN</td>\n",
       "      <td>NaN</td>\n",
       "      <td>NaN</td>\n",
       "      <td>3.000000e+04</td>\n",
       "    </tr>\n",
       "    <tr>\n",
       "      <th>50%</th>\n",
       "      <td>NaN</td>\n",
       "      <td>2.000000e+04</td>\n",
       "      <td>2.000000</td>\n",
       "      <td>NaN</td>\n",
       "      <td>1.057000e+03</td>\n",
       "      <td>NaN</td>\n",
       "      <td>NaN</td>\n",
       "      <td>NaN</td>\n",
       "      <td>6.000000e+04</td>\n",
       "    </tr>\n",
       "    <tr>\n",
       "      <th>75%</th>\n",
       "      <td>NaN</td>\n",
       "      <td>3.290000e+04</td>\n",
       "      <td>3.000000</td>\n",
       "      <td>NaN</td>\n",
       "      <td>1.500000e+03</td>\n",
       "      <td>NaN</td>\n",
       "      <td>NaN</td>\n",
       "      <td>NaN</td>\n",
       "      <td>1.250000e+05</td>\n",
       "    </tr>\n",
       "    <tr>\n",
       "      <th>max</th>\n",
       "      <td>NaN</td>\n",
       "      <td>9.917000e+06</td>\n",
       "      <td>95.000000</td>\n",
       "      <td>NaN</td>\n",
       "      <td>4.356000e+07</td>\n",
       "      <td>NaN</td>\n",
       "      <td>NaN</td>\n",
       "      <td>NaN</td>\n",
       "      <td>2.100000e+07</td>\n",
       "    </tr>\n",
       "  </tbody>\n",
       "</table>\n",
       "</div>"
      ],
      "text/plain": [
       "          city  monthly_rant           BHKS    Baths  sqft_per_inch  \\\n",
       "count   146528  1.465280e+05  146528.000000   146528   1.465280e+05   \n",
       "unique       8           NaN            NaN       41            NaN   \n",
       "top        ncr           NaN            NaN  2 Baths            NaN   \n",
       "freq     42016           NaN            NaN    68767            NaN   \n",
       "mean       NaN  3.414242e+04       2.159703      NaN   2.463806e+03   \n",
       "std        NaN  8.428243e+04       1.107673      NaN   1.816119e+05   \n",
       "min        NaN  5.000000e+02       1.000000      NaN   1.000000e+00   \n",
       "25%        NaN  1.300000e+04       1.000000      NaN   6.800000e+02   \n",
       "50%        NaN  2.000000e+04       2.000000      NaN   1.057000e+03   \n",
       "75%        NaN  3.290000e+04       3.000000      NaN   1.500000e+03   \n",
       "max        NaN  9.917000e+06      95.000000      NaN   4.356000e+07   \n",
       "\n",
       "              build_up_area Type_of_property location_of_the_property  \\\n",
       "count                146528           146528                   146528   \n",
       "unique                    4                7                    12555   \n",
       "top     Super built-up Area      Residential          Goregaon (East)   \n",
       "freq                  69918           102024                      807   \n",
       "mean                    NaN              NaN                      NaN   \n",
       "std                     NaN              NaN                      NaN   \n",
       "min                     NaN              NaN                      NaN   \n",
       "25%                     NaN              NaN                      NaN   \n",
       "50%                     NaN              NaN                      NaN   \n",
       "75%                     NaN              NaN                      NaN   \n",
       "max                     NaN              NaN                      NaN   \n",
       "\n",
       "             deposit  \n",
       "count   1.465280e+05  \n",
       "unique           NaN  \n",
       "top              NaN  \n",
       "freq             NaN  \n",
       "mean    1.203667e+05  \n",
       "std     2.937736e+05  \n",
       "min     0.000000e+00  \n",
       "25%     3.000000e+04  \n",
       "50%     6.000000e+04  \n",
       "75%     1.250000e+05  \n",
       "max     2.100000e+07  "
      ]
     },
     "execution_count": 47,
     "metadata": {},
     "output_type": "execute_result"
    }
   ],
   "source": [
    "df.describe(include='all')"
   ]
  },
  {
   "cell_type": "code",
   "execution_count": 48,
   "id": "1451247a",
   "metadata": {},
   "outputs": [
    {
     "name": "stdout",
     "output_type": "stream",
     "text": [
      "<class 'pandas.core.frame.DataFrame'>\n",
      "RangeIndex: 146528 entries, 0 to 146527\n",
      "Data columns (total 9 columns):\n",
      " #   Column                    Non-Null Count   Dtype  \n",
      "---  ------                    --------------   -----  \n",
      " 0   city                      146528 non-null  object \n",
      " 1   monthly_rant              146528 non-null  float64\n",
      " 2   BHKS                      146528 non-null  float64\n",
      " 3   Baths                     146528 non-null  object \n",
      " 4   sqft_per_inch             146528 non-null  int64  \n",
      " 5   build_up_area             146528 non-null  object \n",
      " 6   Type_of_property          146528 non-null  object \n",
      " 7   location_of_the_property  146528 non-null  object \n",
      " 8   deposit                   146528 non-null  float64\n",
      "dtypes: float64(3), int64(1), object(5)\n",
      "memory usage: 10.1+ MB\n"
     ]
    }
   ],
   "source": [
    "#data preprocessing\n",
    "df.info()"
   ]
  },
  {
   "cell_type": "code",
   "execution_count": 49,
   "id": "1a6e1c13",
   "metadata": {},
   "outputs": [
    {
     "data": {
      "text/plain": [
       "city                        0\n",
       "monthly_rant                0\n",
       "BHKS                        0\n",
       "Baths                       0\n",
       "sqft_per_inch               0\n",
       "build_up_area               0\n",
       "Type_of_property            0\n",
       "location_of_the_property    0\n",
       "deposit                     0\n",
       "dtype: int64"
      ]
     },
     "execution_count": 49,
     "metadata": {},
     "output_type": "execute_result"
    }
   ],
   "source": [
    "df.isnull().sum()"
   ]
  },
  {
   "cell_type": "code",
   "execution_count": 50,
   "id": "4a01feb5",
   "metadata": {},
   "outputs": [],
   "source": [
    "df.drop(['Baths','location_of_the_property'],axis=1,inplace=True)"
   ]
  },
  {
   "cell_type": "code",
   "execution_count": 51,
   "id": "012e945c",
   "metadata": {},
   "outputs": [
    {
     "data": {
      "text/plain": [
       "array(['Residential', 'Independent', 'Studio', 'Serviced', 'for', 'Farm',\n",
       "       'Floor'], dtype=object)"
      ]
     },
     "execution_count": 51,
     "metadata": {},
     "output_type": "execute_result"
    }
   ],
   "source": [
    "df.Type_of_property.unique()"
   ]
  },
  {
   "cell_type": "code",
   "execution_count": 52,
   "id": "8754ec51",
   "metadata": {},
   "outputs": [],
   "source": [
    "df = df[df.Type_of_property!='for']\n",
    "df = df[df.Type_of_property!='Serviced']\n",
    "df = df[df.Type_of_property!='Floor']"
   ]
  },
  {
   "cell_type": "code",
   "execution_count": 53,
   "id": "c49dfd18",
   "metadata": {},
   "outputs": [],
   "source": [
    "df['monthly_rant']=np.log1p(df['monthly_rant'])"
   ]
  },
  {
   "cell_type": "code",
   "execution_count": 54,
   "id": "8dc577d5",
   "metadata": {},
   "outputs": [
    {
     "data": {
      "text/plain": [
       "<AxesSubplot:xlabel='monthly_rant', ylabel='Density'>"
      ]
     },
     "execution_count": 54,
     "metadata": {},
     "output_type": "execute_result"
    },
    {
     "data": {
      "image/png": "[encoded data removed]",
      "text/plain": [
       "<Figure size 576x288 with 1 Axes>"
      ]
     },
     "metadata": {},
     "output_type": "display_data"
    }
   ],
   "source": [
    "sns.distplot(df['monthly_rant'])"
   ]
  },
  {
   "cell_type": "code",
   "execution_count": 55,
   "id": "9da68339",
   "metadata": {},
   "outputs": [],
   "source": [
    "cty = LabelEncoder()\n",
    "b_u_a = LabelEncoder()\n",
    "T_o_p = LabelEncoder()\n",
    "#l_o_t_p = LabelEncoder()\n",
    "\n",
    "\n",
    "df['city'] = cty.fit_transform(df['city'])\n",
    "df['build_up_area'] = b_u_a.fit_transform(df['build_up_area'])\n",
    "df['Type_of_property'] = T_o_p.fit_transform(df['Type_of_property'])\n",
    "#df['location_of_the_property'] = l_o_t_p.fit_transform(df['location_of_the_property'])\n",
    "                                             \n"
   ]
  },
  {
   "cell_type": "code",
   "execution_count": 56,
   "id": "c9e3ca51",
   "metadata": {},
   "outputs": [
    {
     "name": "stdout",
     "output_type": "stream",
     "text": [
      "city [5 7 3 2 4 0 6 1]\n",
      "['mumbai' 'pune' 'chennai' 'bangalore' 'hyderabad' 'Ahmedabad' 'ncr'\n",
      " 'Trivandraum']\n",
      "\n",
      "build_up_area: [1 3 0 2]\n",
      "['Carpet Area' 'Super built-up Area' 'Built-up Area' 'Plot Area']\n",
      "\n",
      "Type_of_property [2 1 3 0]\n",
      "['Residential' 'Independent' 'Studio' 'Farm']\n",
      "\n"
     ]
    }
   ],
   "source": [
    "print(\"city\",df['city'].unique())\n",
    "print(cty.inverse_transform(list(df['city'].unique())))\n",
    "print()\n",
    "print(\"build_up_area:\",df['build_up_area'].unique())\n",
    "print(b_u_a.inverse_transform(list(df['build_up_area'].unique())))\n",
    "print()\n",
    "print(\"Type_of_property\", df['Type_of_property'].unique())\n",
    "print(T_o_p.inverse_transform(list(df['Type_of_property'].unique())))\n",
    "print()\n",
    "#print(\"location_of_the_property\",df['location_of_the_property'].unique())\n",
    "#print(l_o_t_p.inverse_transform(list(df['location_of_the_property'].unique())))\n"
   ]
  },
  {
   "cell_type": "code",
   "execution_count": 57,
   "id": "84c959d1",
   "metadata": {},
   "outputs": [
    {
     "data": {
      "text/html": [
       "<div>\n",
       "<style scoped>\n",
       "    .dataframe tbody tr th:only-of-type {\n",
       "        vertical-align: middle;\n",
       "    }\n",
       "\n",
       "    .dataframe tbody tr th {\n",
       "        vertical-align: top;\n",
       "    }\n",
       "\n",
       "    .dataframe thead th {\n",
       "        text-align: right;\n",
       "    }\n",
       "</style>\n",
       "<table border=\"1\" class=\"dataframe\">\n",
       "  <thead>\n",
       "    <tr style=\"text-align: right;\">\n",
       "      <th></th>\n",
       "      <th>city</th>\n",
       "      <th>monthly_rant</th>\n",
       "      <th>BHKS</th>\n",
       "      <th>sqft_per_inch</th>\n",
       "      <th>build_up_area</th>\n",
       "      <th>Type_of_property</th>\n",
       "      <th>deposit</th>\n",
       "    </tr>\n",
       "  </thead>\n",
       "  <tbody>\n",
       "    <tr>\n",
       "      <th>0</th>\n",
       "      <td>5</td>\n",
       "      <td>9.770013</td>\n",
       "      <td>1.0</td>\n",
       "      <td>470</td>\n",
       "      <td>1</td>\n",
       "      <td>2</td>\n",
       "      <td>75000.0</td>\n",
       "    </tr>\n",
       "    <tr>\n",
       "      <th>1</th>\n",
       "      <td>5</td>\n",
       "      <td>11.225257</td>\n",
       "      <td>3.0</td>\n",
       "      <td>1800</td>\n",
       "      <td>3</td>\n",
       "      <td>2</td>\n",
       "      <td>400000.0</td>\n",
       "    </tr>\n",
       "    <tr>\n",
       "      <th>2</th>\n",
       "      <td>5</td>\n",
       "      <td>11.002117</td>\n",
       "      <td>2.0</td>\n",
       "      <td>950</td>\n",
       "      <td>3</td>\n",
       "      <td>2</td>\n",
       "      <td>200000.0</td>\n",
       "    </tr>\n",
       "    <tr>\n",
       "      <th>3</th>\n",
       "      <td>5</td>\n",
       "      <td>10.859018</td>\n",
       "      <td>3.0</td>\n",
       "      <td>1300</td>\n",
       "      <td>1</td>\n",
       "      <td>2</td>\n",
       "      <td>300000.0</td>\n",
       "    </tr>\n",
       "    <tr>\n",
       "      <th>4</th>\n",
       "      <td>5</td>\n",
       "      <td>10.308986</td>\n",
       "      <td>1.0</td>\n",
       "      <td>550</td>\n",
       "      <td>0</td>\n",
       "      <td>2</td>\n",
       "      <td>150000.0</td>\n",
       "    </tr>\n",
       "  </tbody>\n",
       "</table>\n",
       "</div>"
      ],
      "text/plain": [
       "   city  monthly_rant  BHKS  sqft_per_inch  build_up_area  Type_of_property  \\\n",
       "0     5      9.770013   1.0            470              1                 2   \n",
       "1     5     11.225257   3.0           1800              3                 2   \n",
       "2     5     11.002117   2.0            950              3                 2   \n",
       "3     5     10.859018   3.0           1300              1                 2   \n",
       "4     5     10.308986   1.0            550              0                 2   \n",
       "\n",
       "    deposit  \n",
       "0   75000.0  \n",
       "1  400000.0  \n",
       "2  200000.0  \n",
       "3  300000.0  \n",
       "4  150000.0  "
      ]
     },
     "execution_count": 57,
     "metadata": {},
     "output_type": "execute_result"
    }
   ],
   "source": [
    "df.head()"
   ]
  },
  {
   "cell_type": "code",
   "execution_count": null,
   "id": "6e58387a",
   "metadata": {},
   "outputs": [],
   "source": []
  },
  {
   "cell_type": "code",
   "execution_count": null,
   "id": "487b12fc",
   "metadata": {},
   "outputs": [],
   "source": []
  },
  {
   "cell_type": "code",
   "execution_count": null,
   "id": "549693fe",
   "metadata": {},
   "outputs": [],
   "source": []
  },
  {
   "cell_type": "code",
   "execution_count": 58,
   "id": "a75f95f3",
   "metadata": {},
   "outputs": [],
   "source": [
    "#seperating the variable independent matrix x and dependent vector y\n",
    "x = df.drop('monthly_rant',axis=1)\n",
    "y = df.monthly_rant"
   ]
  },
  {
   "cell_type": "code",
   "execution_count": 59,
   "id": "ecc00472",
   "metadata": {},
   "outputs": [],
   "source": [
    "#spliting dataset into testing and training dataset\n",
    "xtrain,xtest,ytrain,ytest = train_test_split(x,y,test_size=0.2,random_state=10)"
   ]
  },
  {
   "cell_type": "code",
   "execution_count": 60,
   "id": "7df4b40a",
   "metadata": {},
   "outputs": [
    {
     "name": "stdout",
     "output_type": "stream",
     "text": [
      "Shape of xtrain (116827, 6)\n",
      "Shape of xtest (29207, 6)\n",
      "Shape of ytrain (116827,)\n",
      "Shape of ytest (29207,)\n"
     ]
    }
   ],
   "source": [
    "print('Shape of xtrain {}'.format(xtrain.shape))\n",
    "print('Shape of xtest {}'.format(xtest.shape))\n",
    "print('Shape of ytrain {}'.format(ytrain.shape))\n",
    "print('Shape of ytest {}'.format(ytest.shape))"
   ]
  },
  {
   "cell_type": "code",
   "execution_count": 61,
   "id": "2a67da22",
   "metadata": {},
   "outputs": [],
   "source": [
    "# data normalization\n",
    "\n",
    "st=StandardScaler()\n",
    "xtrain_scaled = st.fit_transform(xtrain)\n",
    "xtest_scaled=st.transform(xtest)"
   ]
  },
  {
   "cell_type": "code",
   "execution_count": 69,
   "id": "2514476e",
   "metadata": {},
   "outputs": [],
   "source": [
    "def linear_reg(xtrain_scaled,xtest_scaled,ytrain,ytest):\n",
    "    lr=LinearRegression()\n",
    "    lr.fit(xtrain_scaled,ytrain)\n",
    "    ypred=lr.predict(xtest_scaled)\n",
    "    score=r2_score(ytest,ypred)\n",
    "    rmse=np.sqrt(mean_squared_error(ytest,ypred))\n",
    "    print('**Linear Regression model**')\n",
    "    print('Score for Linear Regression model is {}'.format(score))\n",
    "    print('RMSE for Linear Regression model is {}'.format(rmse))"
   ]
  },
  {
   "cell_type": "code",
   "execution_count": 70,
   "id": "b3f73fff",
   "metadata": {},
   "outputs": [],
   "source": [
    "def random_forest_regressor(xtrain_scaled,xtest_scaled,ytrain,ytest):\n",
    "    rf = RandomForestRegressor()\n",
    "    rf.fit(xtrain_scaled,ytrain)\n",
    "    ypred=(rf.predict(xtest_scaled))\n",
    "    score=r2_score(ytest,ypred)\n",
    "    rmse=np.sqrt(mean_squared_error(ytest,ypred))\n",
    "    print('**Random Forest Regressor Model**')\n",
    "    print('Score for Random Forest Regressor Model is {}'.format(score))\n",
    "    print('RMSE for Random Forest Regressor Model is {}'.format(rmse))"
   ]
  },
  {
   "cell_type": "code",
   "execution_count": 71,
   "id": "6edd163f",
   "metadata": {},
   "outputs": [],
   "source": [
    "def gradient_boosting_regressor(xtrain_scaled,xtest_scaled,ytrain,ytest):\n",
    "    gb=GradientBoostingRegressor()\n",
    "    gb.fit(xtrain_scaled,ytrain)\n",
    "    ypred=(gb.predict(xtest_scaled))\n",
    "    score=r2_score(ytest,ypred)\n",
    "    rmse=np.sqrt(mean_squared_error(ytest,ypred))\n",
    "    print('**Gradient Boosting Regressor Model**')\n",
    "    print('Score for Gradient Boosting Regressor Model is {}'.format(score))\n",
    "    print('RMSE for Gradient Boosting Regressor Model is {}'.format(rmse))"
   ]
  },
  {
   "cell_type": "code",
   "execution_count": 76,
   "id": "d8e442e8",
   "metadata": {},
   "outputs": [],
   "source": [
    "def model_compare(xtrain_scaled,xtest_scaled,ytrain,ytest):\n",
    "    linear_reg(xtrain_scaled,xtest_scaled,ytrain,ytest)\n",
    "    print('_'*100)\n",
    "    random_forest_regressor(xtrain_scaled,xtest_scaled,ytrain,ytest)\n",
    "    print('_'*100)\n",
    "    gradient_boosting_regressor(xtrain_scaled,xtest_scaled,ytrain,ytest)\n",
    "    print('_'*100)"
   ]
  },
  {
   "cell_type": "code",
   "execution_count": 77,
   "id": "b4ef34e9",
   "metadata": {},
   "outputs": [
    {
     "name": "stdout",
     "output_type": "stream",
     "text": [
      "**Linear Regression model**\n",
      "Score for Linear Regression model is 0.47784477380544776\n",
      "RMSE for Linear Regression model is 0.5741257717584949\n",
      "____________________________________________________________________________________________________\n",
      "**Random Forest Regressor Model**\n",
      "Score for Random Forest Regressor Model is 0.8945796953715159\n",
      "RMSE for Random Forest Regressor Model is 0.2579700934881391\n",
      "____________________________________________________________________________________________________\n",
      "**Gradient Boosting Regressor Model**\n",
      "Score for Gradient Boosting Regressor Model is 0.877853968570921\n",
      "RMSE for Gradient Boosting Regressor Model is 0.27768147540624155\n",
      "____________________________________________________________________________________________________\n"
     ]
    }
   ],
   "source": [
    "model_compare(xtrain_scaled,xtest_scaled,ytrain,ytest)"
   ]
  },
  {
   "cell_type": "code",
   "execution_count": 78,
   "id": "8502658c",
   "metadata": {},
   "outputs": [
    {
     "ename": "NameError",
     "evalue": "name 'rf' is not defined",
     "output_type": "error",
     "traceback": [
      "\u001b[1;31m---------------------------------------------------------------------------\u001b[0m",
      "\u001b[1;31mNameError\u001b[0m                                 Traceback (most recent call last)",
      "\u001b[1;32m<ipython-input-78-11aa6e45acbe>\u001b[0m in \u001b[0;36m<module>\u001b[1;34m\u001b[0m\n\u001b[1;32m----> 1\u001b[1;33m \u001b[0mpickle\u001b[0m\u001b[1;33m.\u001b[0m\u001b[0mdump\u001b[0m\u001b[1;33m(\u001b[0m\u001b[0mrf\u001b[0m\u001b[1;33m,\u001b[0m \u001b[0mopen\u001b[0m\u001b[1;33m(\u001b[0m\u001b[1;34m'rf_rand_model.pkl'\u001b[0m\u001b[1;33m,\u001b[0m\u001b[1;34m'wb'\u001b[0m\u001b[1;33m)\u001b[0m\u001b[1;33m)\u001b[0m\u001b[1;33m\u001b[0m\u001b[1;33m\u001b[0m\u001b[0m\n\u001b[0m",
      "\u001b[1;31mNameError\u001b[0m: name 'rf' is not defined"
     ]
    }
   ],
   "source": [
    "pickle.dump(rf, open('rf_rand_model.pkl','wb'))"
   ]
  },
  {
   "cell_type": "code",
   "execution_count": null,
   "id": "0d8887ca",
   "metadata": {},
   "outputs": [],
   "source": []
  }
 ],
 "metadata": {
  "kernelspec": {
   "display_name": "Python 3",
   "language": "python",
   "name": "python3"
  },
  "language_info": {
   "codemirror_mode": {
    "name": "ipython",
    "version": 3
   },
   "file_extension": ".py",
   "mimetype": "text/x-python",
   "name": "python",
   "nbconvert_exporter": "python",
   "pygments_lexer": "ipython3",
   "version": "3.8.8"
  }
 },
 "nbformat": 4,
 "nbformat_minor": 5
}
